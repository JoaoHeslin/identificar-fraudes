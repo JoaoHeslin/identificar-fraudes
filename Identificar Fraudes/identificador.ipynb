{
 "cells": [
  {
   "cell_type": "markdown",
   "metadata": {},
   "source": [
    "# Identificação de Fraudes em Cartões de Crédito\n",
    "\n",
    "Neste projeto, nosso objetivo é identificar fraudes em transações de cartões de crédito utilizando um conjunto de dados fornecido. A seguir, apresentamos as informações da base de dados e o que cada variável representa:\n",
    "\n",
    "### Informações da Base:\n",
    "\n",
    "- **Time (tempo)**: Representa os segundos decorridos entre cada transação e a primeira transação no conjunto de dados. Esta variável ajuda a entender a sequência temporal das transações.\n",
    "\n",
    "- **Amount (valor)**: O valor da transação. Esta variável é crucial para identificar padrões de transações fraudulentas que podem ter valores atípicos em comparação com as transações legítimas.\n",
    "\n",
    "- **Class (classe)**: A variável resposta que indica se a transação é fraudulenta ou não. Assume o valor 1 em caso de fraude e 0 caso contrário. Esta é a variável que tentamos prever com base nas outras características.\n",
    "\n",
    "Devido a questões de confidencialidade, não temos acesso aos recursos originais e às informações básicas detalhadas sobre os dados. No entanto, as características V1, V2, ..., V28 representam componentes principais obtidos através da Análise de Componentes Principais (PCA). Estas características foram transformadas para preservar a informação relevante enquanto reduzem a dimensionalidade do conjunto de dados.\n",
    "\n",
    "Vamos agora explorar os dados e construir um modelo para detectar possíveis fraudes com base nas informações fornecidas.\n"
   ]
  },
  {
   "cell_type": "markdown",
   "metadata": {},
   "source": [
    "### Importação de Bibliotecas e Configuração Inicial"
   ]
  },
  {
   "cell_type": "code",
   "execution_count": 1,
   "metadata": {},
   "outputs": [],
   "source": [
    "import pandas as pd\n",
    "import matplotlib.pyplot as plt\n",
    "import seaborn as sns\n",
    "import warnings\n",
    "warnings.filterwarnings(\"ignore\")\n",
    "sns.set_style(\"whitegrid\")"
   ]
  },
  {
   "cell_type": "markdown",
   "metadata": {},
   "source": [
    "### Importação da Base de Dados"
   ]
  },
  {
   "cell_type": "code",
   "execution_count": 2,
   "metadata": {},
   "outputs": [],
   "source": [
    "base = pd.read_csv('creditcard.csv')"
   ]
  },
  {
   "cell_type": "markdown",
   "metadata": {},
   "source": [
    "### Análise Exploratória dos Dados (EDA)\n",
    "\n",
    "A Análise Exploratória dos Dados (EDA) é uma etapa essencial para entender melhor o conjunto de dados e preparar para a modelagem. Nesta seção, vamos explorar as características da base de dados"
   ]
  },
  {
   "cell_type": "markdown",
   "metadata": {},
   "source": [
    "#### Visualização das Primeiras Linhas da Base de Dados"
   ]
  },
  {
   "cell_type": "code",
   "execution_count": 3,
   "metadata": {},
   "outputs": [
    {
     "data": {
      "text/html": [
       "<div>\n",
       "<style scoped>\n",
       "    .dataframe tbody tr th:only-of-type {\n",
       "        vertical-align: middle;\n",
       "    }\n",
       "\n",
       "    .dataframe tbody tr th {\n",
       "        vertical-align: top;\n",
       "    }\n",
       "\n",
       "    .dataframe thead th {\n",
       "        text-align: right;\n",
       "    }\n",
       "</style>\n",
       "<table border=\"1\" class=\"dataframe\">\n",
       "  <thead>\n",
       "    <tr style=\"text-align: right;\">\n",
       "      <th></th>\n",
       "      <th>Time</th>\n",
       "      <th>V1</th>\n",
       "      <th>V2</th>\n",
       "      <th>V3</th>\n",
       "      <th>V4</th>\n",
       "      <th>V5</th>\n",
       "      <th>V6</th>\n",
       "      <th>V7</th>\n",
       "      <th>V8</th>\n",
       "      <th>V9</th>\n",
       "      <th>...</th>\n",
       "      <th>V21</th>\n",
       "      <th>V22</th>\n",
       "      <th>V23</th>\n",
       "      <th>V24</th>\n",
       "      <th>V25</th>\n",
       "      <th>V26</th>\n",
       "      <th>V27</th>\n",
       "      <th>V28</th>\n",
       "      <th>Amount</th>\n",
       "      <th>Class</th>\n",
       "    </tr>\n",
       "  </thead>\n",
       "  <tbody>\n",
       "    <tr>\n",
       "      <th>0</th>\n",
       "      <td>0.0</td>\n",
       "      <td>-1.359807</td>\n",
       "      <td>-0.072781</td>\n",
       "      <td>2.536347</td>\n",
       "      <td>1.378155</td>\n",
       "      <td>-0.338321</td>\n",
       "      <td>0.462388</td>\n",
       "      <td>0.239599</td>\n",
       "      <td>0.098698</td>\n",
       "      <td>0.363787</td>\n",
       "      <td>...</td>\n",
       "      <td>-0.018307</td>\n",
       "      <td>0.277838</td>\n",
       "      <td>-0.110474</td>\n",
       "      <td>0.066928</td>\n",
       "      <td>0.128539</td>\n",
       "      <td>-0.189115</td>\n",
       "      <td>0.133558</td>\n",
       "      <td>-0.021053</td>\n",
       "      <td>149.62</td>\n",
       "      <td>0</td>\n",
       "    </tr>\n",
       "    <tr>\n",
       "      <th>1</th>\n",
       "      <td>0.0</td>\n",
       "      <td>1.191857</td>\n",
       "      <td>0.266151</td>\n",
       "      <td>0.166480</td>\n",
       "      <td>0.448154</td>\n",
       "      <td>0.060018</td>\n",
       "      <td>-0.082361</td>\n",
       "      <td>-0.078803</td>\n",
       "      <td>0.085102</td>\n",
       "      <td>-0.255425</td>\n",
       "      <td>...</td>\n",
       "      <td>-0.225775</td>\n",
       "      <td>-0.638672</td>\n",
       "      <td>0.101288</td>\n",
       "      <td>-0.339846</td>\n",
       "      <td>0.167170</td>\n",
       "      <td>0.125895</td>\n",
       "      <td>-0.008983</td>\n",
       "      <td>0.014724</td>\n",
       "      <td>2.69</td>\n",
       "      <td>0</td>\n",
       "    </tr>\n",
       "    <tr>\n",
       "      <th>2</th>\n",
       "      <td>1.0</td>\n",
       "      <td>-1.358354</td>\n",
       "      <td>-1.340163</td>\n",
       "      <td>1.773209</td>\n",
       "      <td>0.379780</td>\n",
       "      <td>-0.503198</td>\n",
       "      <td>1.800499</td>\n",
       "      <td>0.791461</td>\n",
       "      <td>0.247676</td>\n",
       "      <td>-1.514654</td>\n",
       "      <td>...</td>\n",
       "      <td>0.247998</td>\n",
       "      <td>0.771679</td>\n",
       "      <td>0.909412</td>\n",
       "      <td>-0.689281</td>\n",
       "      <td>-0.327642</td>\n",
       "      <td>-0.139097</td>\n",
       "      <td>-0.055353</td>\n",
       "      <td>-0.059752</td>\n",
       "      <td>378.66</td>\n",
       "      <td>0</td>\n",
       "    </tr>\n",
       "    <tr>\n",
       "      <th>3</th>\n",
       "      <td>1.0</td>\n",
       "      <td>-0.966272</td>\n",
       "      <td>-0.185226</td>\n",
       "      <td>1.792993</td>\n",
       "      <td>-0.863291</td>\n",
       "      <td>-0.010309</td>\n",
       "      <td>1.247203</td>\n",
       "      <td>0.237609</td>\n",
       "      <td>0.377436</td>\n",
       "      <td>-1.387024</td>\n",
       "      <td>...</td>\n",
       "      <td>-0.108300</td>\n",
       "      <td>0.005274</td>\n",
       "      <td>-0.190321</td>\n",
       "      <td>-1.175575</td>\n",
       "      <td>0.647376</td>\n",
       "      <td>-0.221929</td>\n",
       "      <td>0.062723</td>\n",
       "      <td>0.061458</td>\n",
       "      <td>123.50</td>\n",
       "      <td>0</td>\n",
       "    </tr>\n",
       "    <tr>\n",
       "      <th>4</th>\n",
       "      <td>2.0</td>\n",
       "      <td>-1.158233</td>\n",
       "      <td>0.877737</td>\n",
       "      <td>1.548718</td>\n",
       "      <td>0.403034</td>\n",
       "      <td>-0.407193</td>\n",
       "      <td>0.095921</td>\n",
       "      <td>0.592941</td>\n",
       "      <td>-0.270533</td>\n",
       "      <td>0.817739</td>\n",
       "      <td>...</td>\n",
       "      <td>-0.009431</td>\n",
       "      <td>0.798278</td>\n",
       "      <td>-0.137458</td>\n",
       "      <td>0.141267</td>\n",
       "      <td>-0.206010</td>\n",
       "      <td>0.502292</td>\n",
       "      <td>0.219422</td>\n",
       "      <td>0.215153</td>\n",
       "      <td>69.99</td>\n",
       "      <td>0</td>\n",
       "    </tr>\n",
       "  </tbody>\n",
       "</table>\n",
       "<p>5 rows × 31 columns</p>\n",
       "</div>"
      ],
      "text/plain": [
       "   Time        V1        V2        V3        V4        V5        V6        V7  \\\n",
       "0   0.0 -1.359807 -0.072781  2.536347  1.378155 -0.338321  0.462388  0.239599   \n",
       "1   0.0  1.191857  0.266151  0.166480  0.448154  0.060018 -0.082361 -0.078803   \n",
       "2   1.0 -1.358354 -1.340163  1.773209  0.379780 -0.503198  1.800499  0.791461   \n",
       "3   1.0 -0.966272 -0.185226  1.792993 -0.863291 -0.010309  1.247203  0.237609   \n",
       "4   2.0 -1.158233  0.877737  1.548718  0.403034 -0.407193  0.095921  0.592941   \n",
       "\n",
       "         V8        V9  ...       V21       V22       V23       V24       V25  \\\n",
       "0  0.098698  0.363787  ... -0.018307  0.277838 -0.110474  0.066928  0.128539   \n",
       "1  0.085102 -0.255425  ... -0.225775 -0.638672  0.101288 -0.339846  0.167170   \n",
       "2  0.247676 -1.514654  ...  0.247998  0.771679  0.909412 -0.689281 -0.327642   \n",
       "3  0.377436 -1.387024  ... -0.108300  0.005274 -0.190321 -1.175575  0.647376   \n",
       "4 -0.270533  0.817739  ... -0.009431  0.798278 -0.137458  0.141267 -0.206010   \n",
       "\n",
       "        V26       V27       V28  Amount  Class  \n",
       "0 -0.189115  0.133558 -0.021053  149.62      0  \n",
       "1  0.125895 -0.008983  0.014724    2.69      0  \n",
       "2 -0.139097 -0.055353 -0.059752  378.66      0  \n",
       "3 -0.221929  0.062723  0.061458  123.50      0  \n",
       "4  0.502292  0.219422  0.215153   69.99      0  \n",
       "\n",
       "[5 rows x 31 columns]"
      ]
     },
     "execution_count": 3,
     "metadata": {},
     "output_type": "execute_result"
    }
   ],
   "source": [
    "base.head()"
   ]
  },
  {
   "cell_type": "markdown",
   "metadata": {},
   "source": [
    "#### Informações Gerais sobre a Base de Dados"
   ]
  },
  {
   "cell_type": "code",
   "execution_count": 4,
   "metadata": {},
   "outputs": [
    {
     "name": "stdout",
     "output_type": "stream",
     "text": [
      "<class 'pandas.core.frame.DataFrame'>\n",
      "RangeIndex: 284807 entries, 0 to 284806\n",
      "Data columns (total 31 columns):\n",
      " #   Column  Non-Null Count   Dtype  \n",
      "---  ------  --------------   -----  \n",
      " 0   Time    284807 non-null  float64\n",
      " 1   V1      284807 non-null  float64\n",
      " 2   V2      284807 non-null  float64\n",
      " 3   V3      284807 non-null  float64\n",
      " 4   V4      284807 non-null  float64\n",
      " 5   V5      284807 non-null  float64\n",
      " 6   V6      284807 non-null  float64\n",
      " 7   V7      284807 non-null  float64\n",
      " 8   V8      284807 non-null  float64\n",
      " 9   V9      284807 non-null  float64\n",
      " 10  V10     284807 non-null  float64\n",
      " 11  V11     284807 non-null  float64\n",
      " 12  V12     284807 non-null  float64\n",
      " 13  V13     284807 non-null  float64\n",
      " 14  V14     284807 non-null  float64\n",
      " 15  V15     284807 non-null  float64\n",
      " 16  V16     284807 non-null  float64\n",
      " 17  V17     284807 non-null  float64\n",
      " 18  V18     284807 non-null  float64\n",
      " 19  V19     284807 non-null  float64\n",
      " 20  V20     284807 non-null  float64\n",
      " 21  V21     284807 non-null  float64\n",
      " 22  V22     284807 non-null  float64\n",
      " 23  V23     284807 non-null  float64\n",
      " 24  V24     284807 non-null  float64\n",
      " 25  V25     284807 non-null  float64\n",
      " 26  V26     284807 non-null  float64\n",
      " 27  V27     284807 non-null  float64\n",
      " 28  V28     284807 non-null  float64\n",
      " 29  Amount  284807 non-null  float64\n",
      " 30  Class   284807 non-null  int64  \n",
      "dtypes: float64(30), int64(1)\n",
      "memory usage: 67.4 MB\n"
     ]
    }
   ],
   "source": [
    "base.info()"
   ]
  },
  {
   "cell_type": "markdown",
   "metadata": {},
   "source": [
    "#### Estatísticas Descritivas da Base de Dados"
   ]
  },
  {
   "cell_type": "code",
   "execution_count": 5,
   "metadata": {},
   "outputs": [
    {
     "data": {
      "text/html": [
       "<div>\n",
       "<style scoped>\n",
       "    .dataframe tbody tr th:only-of-type {\n",
       "        vertical-align: middle;\n",
       "    }\n",
       "\n",
       "    .dataframe tbody tr th {\n",
       "        vertical-align: top;\n",
       "    }\n",
       "\n",
       "    .dataframe thead th {\n",
       "        text-align: right;\n",
       "    }\n",
       "</style>\n",
       "<table border=\"1\" class=\"dataframe\">\n",
       "  <thead>\n",
       "    <tr style=\"text-align: right;\">\n",
       "      <th></th>\n",
       "      <th>Time</th>\n",
       "      <th>V1</th>\n",
       "      <th>V2</th>\n",
       "      <th>V3</th>\n",
       "      <th>V4</th>\n",
       "      <th>V5</th>\n",
       "      <th>V6</th>\n",
       "      <th>V7</th>\n",
       "      <th>V8</th>\n",
       "      <th>V9</th>\n",
       "      <th>...</th>\n",
       "      <th>V21</th>\n",
       "      <th>V22</th>\n",
       "      <th>V23</th>\n",
       "      <th>V24</th>\n",
       "      <th>V25</th>\n",
       "      <th>V26</th>\n",
       "      <th>V27</th>\n",
       "      <th>V28</th>\n",
       "      <th>Amount</th>\n",
       "      <th>Class</th>\n",
       "    </tr>\n",
       "  </thead>\n",
       "  <tbody>\n",
       "    <tr>\n",
       "      <th>count</th>\n",
       "      <td>284807.000000</td>\n",
       "      <td>2.848070e+05</td>\n",
       "      <td>2.848070e+05</td>\n",
       "      <td>2.848070e+05</td>\n",
       "      <td>2.848070e+05</td>\n",
       "      <td>2.848070e+05</td>\n",
       "      <td>2.848070e+05</td>\n",
       "      <td>2.848070e+05</td>\n",
       "      <td>2.848070e+05</td>\n",
       "      <td>2.848070e+05</td>\n",
       "      <td>...</td>\n",
       "      <td>2.848070e+05</td>\n",
       "      <td>2.848070e+05</td>\n",
       "      <td>2.848070e+05</td>\n",
       "      <td>2.848070e+05</td>\n",
       "      <td>2.848070e+05</td>\n",
       "      <td>2.848070e+05</td>\n",
       "      <td>2.848070e+05</td>\n",
       "      <td>2.848070e+05</td>\n",
       "      <td>284807.000000</td>\n",
       "      <td>284807.000000</td>\n",
       "    </tr>\n",
       "    <tr>\n",
       "      <th>mean</th>\n",
       "      <td>94813.859575</td>\n",
       "      <td>1.168375e-15</td>\n",
       "      <td>3.416908e-16</td>\n",
       "      <td>-1.379537e-15</td>\n",
       "      <td>2.074095e-15</td>\n",
       "      <td>9.604066e-16</td>\n",
       "      <td>1.487313e-15</td>\n",
       "      <td>-5.556467e-16</td>\n",
       "      <td>1.213481e-16</td>\n",
       "      <td>-2.406331e-15</td>\n",
       "      <td>...</td>\n",
       "      <td>1.654067e-16</td>\n",
       "      <td>-3.568593e-16</td>\n",
       "      <td>2.578648e-16</td>\n",
       "      <td>4.473266e-15</td>\n",
       "      <td>5.340915e-16</td>\n",
       "      <td>1.683437e-15</td>\n",
       "      <td>-3.660091e-16</td>\n",
       "      <td>-1.227390e-16</td>\n",
       "      <td>88.349619</td>\n",
       "      <td>0.001727</td>\n",
       "    </tr>\n",
       "    <tr>\n",
       "      <th>std</th>\n",
       "      <td>47488.145955</td>\n",
       "      <td>1.958696e+00</td>\n",
       "      <td>1.651309e+00</td>\n",
       "      <td>1.516255e+00</td>\n",
       "      <td>1.415869e+00</td>\n",
       "      <td>1.380247e+00</td>\n",
       "      <td>1.332271e+00</td>\n",
       "      <td>1.237094e+00</td>\n",
       "      <td>1.194353e+00</td>\n",
       "      <td>1.098632e+00</td>\n",
       "      <td>...</td>\n",
       "      <td>7.345240e-01</td>\n",
       "      <td>7.257016e-01</td>\n",
       "      <td>6.244603e-01</td>\n",
       "      <td>6.056471e-01</td>\n",
       "      <td>5.212781e-01</td>\n",
       "      <td>4.822270e-01</td>\n",
       "      <td>4.036325e-01</td>\n",
       "      <td>3.300833e-01</td>\n",
       "      <td>250.120109</td>\n",
       "      <td>0.041527</td>\n",
       "    </tr>\n",
       "    <tr>\n",
       "      <th>min</th>\n",
       "      <td>0.000000</td>\n",
       "      <td>-5.640751e+01</td>\n",
       "      <td>-7.271573e+01</td>\n",
       "      <td>-4.832559e+01</td>\n",
       "      <td>-5.683171e+00</td>\n",
       "      <td>-1.137433e+02</td>\n",
       "      <td>-2.616051e+01</td>\n",
       "      <td>-4.355724e+01</td>\n",
       "      <td>-7.321672e+01</td>\n",
       "      <td>-1.343407e+01</td>\n",
       "      <td>...</td>\n",
       "      <td>-3.483038e+01</td>\n",
       "      <td>-1.093314e+01</td>\n",
       "      <td>-4.480774e+01</td>\n",
       "      <td>-2.836627e+00</td>\n",
       "      <td>-1.029540e+01</td>\n",
       "      <td>-2.604551e+00</td>\n",
       "      <td>-2.256568e+01</td>\n",
       "      <td>-1.543008e+01</td>\n",
       "      <td>0.000000</td>\n",
       "      <td>0.000000</td>\n",
       "    </tr>\n",
       "    <tr>\n",
       "      <th>25%</th>\n",
       "      <td>54201.500000</td>\n",
       "      <td>-9.203734e-01</td>\n",
       "      <td>-5.985499e-01</td>\n",
       "      <td>-8.903648e-01</td>\n",
       "      <td>-8.486401e-01</td>\n",
       "      <td>-6.915971e-01</td>\n",
       "      <td>-7.682956e-01</td>\n",
       "      <td>-5.540759e-01</td>\n",
       "      <td>-2.086297e-01</td>\n",
       "      <td>-6.430976e-01</td>\n",
       "      <td>...</td>\n",
       "      <td>-2.283949e-01</td>\n",
       "      <td>-5.423504e-01</td>\n",
       "      <td>-1.618463e-01</td>\n",
       "      <td>-3.545861e-01</td>\n",
       "      <td>-3.171451e-01</td>\n",
       "      <td>-3.269839e-01</td>\n",
       "      <td>-7.083953e-02</td>\n",
       "      <td>-5.295979e-02</td>\n",
       "      <td>5.600000</td>\n",
       "      <td>0.000000</td>\n",
       "    </tr>\n",
       "    <tr>\n",
       "      <th>50%</th>\n",
       "      <td>84692.000000</td>\n",
       "      <td>1.810880e-02</td>\n",
       "      <td>6.548556e-02</td>\n",
       "      <td>1.798463e-01</td>\n",
       "      <td>-1.984653e-02</td>\n",
       "      <td>-5.433583e-02</td>\n",
       "      <td>-2.741871e-01</td>\n",
       "      <td>4.010308e-02</td>\n",
       "      <td>2.235804e-02</td>\n",
       "      <td>-5.142873e-02</td>\n",
       "      <td>...</td>\n",
       "      <td>-2.945017e-02</td>\n",
       "      <td>6.781943e-03</td>\n",
       "      <td>-1.119293e-02</td>\n",
       "      <td>4.097606e-02</td>\n",
       "      <td>1.659350e-02</td>\n",
       "      <td>-5.213911e-02</td>\n",
       "      <td>1.342146e-03</td>\n",
       "      <td>1.124383e-02</td>\n",
       "      <td>22.000000</td>\n",
       "      <td>0.000000</td>\n",
       "    </tr>\n",
       "    <tr>\n",
       "      <th>75%</th>\n",
       "      <td>139320.500000</td>\n",
       "      <td>1.315642e+00</td>\n",
       "      <td>8.037239e-01</td>\n",
       "      <td>1.027196e+00</td>\n",
       "      <td>7.433413e-01</td>\n",
       "      <td>6.119264e-01</td>\n",
       "      <td>3.985649e-01</td>\n",
       "      <td>5.704361e-01</td>\n",
       "      <td>3.273459e-01</td>\n",
       "      <td>5.971390e-01</td>\n",
       "      <td>...</td>\n",
       "      <td>1.863772e-01</td>\n",
       "      <td>5.285536e-01</td>\n",
       "      <td>1.476421e-01</td>\n",
       "      <td>4.395266e-01</td>\n",
       "      <td>3.507156e-01</td>\n",
       "      <td>2.409522e-01</td>\n",
       "      <td>9.104512e-02</td>\n",
       "      <td>7.827995e-02</td>\n",
       "      <td>77.165000</td>\n",
       "      <td>0.000000</td>\n",
       "    </tr>\n",
       "    <tr>\n",
       "      <th>max</th>\n",
       "      <td>172792.000000</td>\n",
       "      <td>2.454930e+00</td>\n",
       "      <td>2.205773e+01</td>\n",
       "      <td>9.382558e+00</td>\n",
       "      <td>1.687534e+01</td>\n",
       "      <td>3.480167e+01</td>\n",
       "      <td>7.330163e+01</td>\n",
       "      <td>1.205895e+02</td>\n",
       "      <td>2.000721e+01</td>\n",
       "      <td>1.559499e+01</td>\n",
       "      <td>...</td>\n",
       "      <td>2.720284e+01</td>\n",
       "      <td>1.050309e+01</td>\n",
       "      <td>2.252841e+01</td>\n",
       "      <td>4.584549e+00</td>\n",
       "      <td>7.519589e+00</td>\n",
       "      <td>3.517346e+00</td>\n",
       "      <td>3.161220e+01</td>\n",
       "      <td>3.384781e+01</td>\n",
       "      <td>25691.160000</td>\n",
       "      <td>1.000000</td>\n",
       "    </tr>\n",
       "  </tbody>\n",
       "</table>\n",
       "<p>8 rows × 31 columns</p>\n",
       "</div>"
      ],
      "text/plain": [
       "                Time            V1            V2            V3            V4  \\\n",
       "count  284807.000000  2.848070e+05  2.848070e+05  2.848070e+05  2.848070e+05   \n",
       "mean    94813.859575  1.168375e-15  3.416908e-16 -1.379537e-15  2.074095e-15   \n",
       "std     47488.145955  1.958696e+00  1.651309e+00  1.516255e+00  1.415869e+00   \n",
       "min         0.000000 -5.640751e+01 -7.271573e+01 -4.832559e+01 -5.683171e+00   \n",
       "25%     54201.500000 -9.203734e-01 -5.985499e-01 -8.903648e-01 -8.486401e-01   \n",
       "50%     84692.000000  1.810880e-02  6.548556e-02  1.798463e-01 -1.984653e-02   \n",
       "75%    139320.500000  1.315642e+00  8.037239e-01  1.027196e+00  7.433413e-01   \n",
       "max    172792.000000  2.454930e+00  2.205773e+01  9.382558e+00  1.687534e+01   \n",
       "\n",
       "                 V5            V6            V7            V8            V9  \\\n",
       "count  2.848070e+05  2.848070e+05  2.848070e+05  2.848070e+05  2.848070e+05   \n",
       "mean   9.604066e-16  1.487313e-15 -5.556467e-16  1.213481e-16 -2.406331e-15   \n",
       "std    1.380247e+00  1.332271e+00  1.237094e+00  1.194353e+00  1.098632e+00   \n",
       "min   -1.137433e+02 -2.616051e+01 -4.355724e+01 -7.321672e+01 -1.343407e+01   \n",
       "25%   -6.915971e-01 -7.682956e-01 -5.540759e-01 -2.086297e-01 -6.430976e-01   \n",
       "50%   -5.433583e-02 -2.741871e-01  4.010308e-02  2.235804e-02 -5.142873e-02   \n",
       "75%    6.119264e-01  3.985649e-01  5.704361e-01  3.273459e-01  5.971390e-01   \n",
       "max    3.480167e+01  7.330163e+01  1.205895e+02  2.000721e+01  1.559499e+01   \n",
       "\n",
       "       ...           V21           V22           V23           V24  \\\n",
       "count  ...  2.848070e+05  2.848070e+05  2.848070e+05  2.848070e+05   \n",
       "mean   ...  1.654067e-16 -3.568593e-16  2.578648e-16  4.473266e-15   \n",
       "std    ...  7.345240e-01  7.257016e-01  6.244603e-01  6.056471e-01   \n",
       "min    ... -3.483038e+01 -1.093314e+01 -4.480774e+01 -2.836627e+00   \n",
       "25%    ... -2.283949e-01 -5.423504e-01 -1.618463e-01 -3.545861e-01   \n",
       "50%    ... -2.945017e-02  6.781943e-03 -1.119293e-02  4.097606e-02   \n",
       "75%    ...  1.863772e-01  5.285536e-01  1.476421e-01  4.395266e-01   \n",
       "max    ...  2.720284e+01  1.050309e+01  2.252841e+01  4.584549e+00   \n",
       "\n",
       "                V25           V26           V27           V28         Amount  \\\n",
       "count  2.848070e+05  2.848070e+05  2.848070e+05  2.848070e+05  284807.000000   \n",
       "mean   5.340915e-16  1.683437e-15 -3.660091e-16 -1.227390e-16      88.349619   \n",
       "std    5.212781e-01  4.822270e-01  4.036325e-01  3.300833e-01     250.120109   \n",
       "min   -1.029540e+01 -2.604551e+00 -2.256568e+01 -1.543008e+01       0.000000   \n",
       "25%   -3.171451e-01 -3.269839e-01 -7.083953e-02 -5.295979e-02       5.600000   \n",
       "50%    1.659350e-02 -5.213911e-02  1.342146e-03  1.124383e-02      22.000000   \n",
       "75%    3.507156e-01  2.409522e-01  9.104512e-02  7.827995e-02      77.165000   \n",
       "max    7.519589e+00  3.517346e+00  3.161220e+01  3.384781e+01   25691.160000   \n",
       "\n",
       "               Class  \n",
       "count  284807.000000  \n",
       "mean        0.001727  \n",
       "std         0.041527  \n",
       "min         0.000000  \n",
       "25%         0.000000  \n",
       "50%         0.000000  \n",
       "75%         0.000000  \n",
       "max         1.000000  \n",
       "\n",
       "[8 rows x 31 columns]"
      ]
     },
     "execution_count": 5,
     "metadata": {},
     "output_type": "execute_result"
    }
   ],
   "source": [
    "\n",
    "base.describe()"
   ]
  },
  {
   "cell_type": "markdown",
   "metadata": {},
   "source": [
    "#### Verificação de Transações com Valor Zero"
   ]
  },
  {
   "cell_type": "code",
   "execution_count": 6,
   "metadata": {},
   "outputs": [
    {
     "data": {
      "text/html": [
       "<div>\n",
       "<style scoped>\n",
       "    .dataframe tbody tr th:only-of-type {\n",
       "        vertical-align: middle;\n",
       "    }\n",
       "\n",
       "    .dataframe tbody tr th {\n",
       "        vertical-align: top;\n",
       "    }\n",
       "\n",
       "    .dataframe thead th {\n",
       "        text-align: right;\n",
       "    }\n",
       "</style>\n",
       "<table border=\"1\" class=\"dataframe\">\n",
       "  <thead>\n",
       "    <tr style=\"text-align: right;\">\n",
       "      <th></th>\n",
       "      <th>Time</th>\n",
       "      <th>V1</th>\n",
       "      <th>V2</th>\n",
       "      <th>V3</th>\n",
       "      <th>V4</th>\n",
       "      <th>V5</th>\n",
       "      <th>V6</th>\n",
       "      <th>V7</th>\n",
       "      <th>V8</th>\n",
       "      <th>V9</th>\n",
       "      <th>...</th>\n",
       "      <th>V21</th>\n",
       "      <th>V22</th>\n",
       "      <th>V23</th>\n",
       "      <th>V24</th>\n",
       "      <th>V25</th>\n",
       "      <th>V26</th>\n",
       "      <th>V27</th>\n",
       "      <th>V28</th>\n",
       "      <th>Amount</th>\n",
       "      <th>Class</th>\n",
       "    </tr>\n",
       "  </thead>\n",
       "  <tbody>\n",
       "    <tr>\n",
       "      <th>383</th>\n",
       "      <td>282.0</td>\n",
       "      <td>-0.356466</td>\n",
       "      <td>0.725418</td>\n",
       "      <td>1.971749</td>\n",
       "      <td>0.831343</td>\n",
       "      <td>0.369681</td>\n",
       "      <td>-0.107776</td>\n",
       "      <td>0.751610</td>\n",
       "      <td>-0.120166</td>\n",
       "      <td>-0.420675</td>\n",
       "      <td>...</td>\n",
       "      <td>0.020804</td>\n",
       "      <td>0.424312</td>\n",
       "      <td>-0.015989</td>\n",
       "      <td>0.466754</td>\n",
       "      <td>-0.809962</td>\n",
       "      <td>0.657334</td>\n",
       "      <td>-0.043150</td>\n",
       "      <td>-0.046401</td>\n",
       "      <td>0.0</td>\n",
       "      <td>0</td>\n",
       "    </tr>\n",
       "    <tr>\n",
       "      <th>514</th>\n",
       "      <td>380.0</td>\n",
       "      <td>-1.299837</td>\n",
       "      <td>0.881817</td>\n",
       "      <td>1.452842</td>\n",
       "      <td>-1.293698</td>\n",
       "      <td>-0.025105</td>\n",
       "      <td>-1.170103</td>\n",
       "      <td>0.861610</td>\n",
       "      <td>-0.193934</td>\n",
       "      <td>0.592001</td>\n",
       "      <td>...</td>\n",
       "      <td>-0.272563</td>\n",
       "      <td>-0.360853</td>\n",
       "      <td>0.223911</td>\n",
       "      <td>0.598930</td>\n",
       "      <td>-0.397705</td>\n",
       "      <td>0.637141</td>\n",
       "      <td>0.234872</td>\n",
       "      <td>0.021379</td>\n",
       "      <td>0.0</td>\n",
       "      <td>0</td>\n",
       "    </tr>\n",
       "    <tr>\n",
       "      <th>534</th>\n",
       "      <td>403.0</td>\n",
       "      <td>1.237413</td>\n",
       "      <td>0.512365</td>\n",
       "      <td>0.687746</td>\n",
       "      <td>1.693872</td>\n",
       "      <td>-0.236323</td>\n",
       "      <td>-0.650232</td>\n",
       "      <td>0.118066</td>\n",
       "      <td>-0.230545</td>\n",
       "      <td>-0.808523</td>\n",
       "      <td>...</td>\n",
       "      <td>-0.077543</td>\n",
       "      <td>-0.178220</td>\n",
       "      <td>0.038722</td>\n",
       "      <td>0.471218</td>\n",
       "      <td>0.289249</td>\n",
       "      <td>0.871803</td>\n",
       "      <td>-0.066884</td>\n",
       "      <td>0.012986</td>\n",
       "      <td>0.0</td>\n",
       "      <td>0</td>\n",
       "    </tr>\n",
       "    <tr>\n",
       "      <th>541</th>\n",
       "      <td>406.0</td>\n",
       "      <td>-2.312227</td>\n",
       "      <td>1.951992</td>\n",
       "      <td>-1.609851</td>\n",
       "      <td>3.997906</td>\n",
       "      <td>-0.522188</td>\n",
       "      <td>-1.426545</td>\n",
       "      <td>-2.537387</td>\n",
       "      <td>1.391657</td>\n",
       "      <td>-2.770089</td>\n",
       "      <td>...</td>\n",
       "      <td>0.517232</td>\n",
       "      <td>-0.035049</td>\n",
       "      <td>-0.465211</td>\n",
       "      <td>0.320198</td>\n",
       "      <td>0.044519</td>\n",
       "      <td>0.177840</td>\n",
       "      <td>0.261145</td>\n",
       "      <td>-0.143276</td>\n",
       "      <td>0.0</td>\n",
       "      <td>1</td>\n",
       "    </tr>\n",
       "    <tr>\n",
       "      <th>575</th>\n",
       "      <td>430.0</td>\n",
       "      <td>-1.860258</td>\n",
       "      <td>-0.629859</td>\n",
       "      <td>0.966570</td>\n",
       "      <td>0.844632</td>\n",
       "      <td>0.759983</td>\n",
       "      <td>-1.481173</td>\n",
       "      <td>-0.509681</td>\n",
       "      <td>0.540722</td>\n",
       "      <td>-0.733623</td>\n",
       "      <td>...</td>\n",
       "      <td>0.268028</td>\n",
       "      <td>0.125515</td>\n",
       "      <td>-0.225029</td>\n",
       "      <td>0.586664</td>\n",
       "      <td>-0.031598</td>\n",
       "      <td>0.570168</td>\n",
       "      <td>-0.043007</td>\n",
       "      <td>-0.223739</td>\n",
       "      <td>0.0</td>\n",
       "      <td>0</td>\n",
       "    </tr>\n",
       "    <tr>\n",
       "      <th>...</th>\n",
       "      <td>...</td>\n",
       "      <td>...</td>\n",
       "      <td>...</td>\n",
       "      <td>...</td>\n",
       "      <td>...</td>\n",
       "      <td>...</td>\n",
       "      <td>...</td>\n",
       "      <td>...</td>\n",
       "      <td>...</td>\n",
       "      <td>...</td>\n",
       "      <td>...</td>\n",
       "      <td>...</td>\n",
       "      <td>...</td>\n",
       "      <td>...</td>\n",
       "      <td>...</td>\n",
       "      <td>...</td>\n",
       "      <td>...</td>\n",
       "      <td>...</td>\n",
       "      <td>...</td>\n",
       "      <td>...</td>\n",
       "      <td>...</td>\n",
       "    </tr>\n",
       "    <tr>\n",
       "      <th>283719</th>\n",
       "      <td>171817.0</td>\n",
       "      <td>-0.750414</td>\n",
       "      <td>0.904175</td>\n",
       "      <td>0.996461</td>\n",
       "      <td>0.427284</td>\n",
       "      <td>1.720336</td>\n",
       "      <td>0.929256</td>\n",
       "      <td>0.794272</td>\n",
       "      <td>0.176719</td>\n",
       "      <td>-1.836261</td>\n",
       "      <td>...</td>\n",
       "      <td>0.050750</td>\n",
       "      <td>0.115532</td>\n",
       "      <td>-0.623995</td>\n",
       "      <td>-0.186896</td>\n",
       "      <td>0.733759</td>\n",
       "      <td>2.558151</td>\n",
       "      <td>-0.188835</td>\n",
       "      <td>0.001654</td>\n",
       "      <td>0.0</td>\n",
       "      <td>0</td>\n",
       "    </tr>\n",
       "    <tr>\n",
       "      <th>283782</th>\n",
       "      <td>171870.0</td>\n",
       "      <td>2.083677</td>\n",
       "      <td>-0.065811</td>\n",
       "      <td>-1.442870</td>\n",
       "      <td>0.135416</td>\n",
       "      <td>0.043035</td>\n",
       "      <td>-1.306975</td>\n",
       "      <td>0.335835</td>\n",
       "      <td>-0.371635</td>\n",
       "      <td>0.730560</td>\n",
       "      <td>...</td>\n",
       "      <td>-0.147536</td>\n",
       "      <td>-0.246599</td>\n",
       "      <td>0.194758</td>\n",
       "      <td>-0.082277</td>\n",
       "      <td>0.012887</td>\n",
       "      <td>-0.069278</td>\n",
       "      <td>-0.048995</td>\n",
       "      <td>-0.065482</td>\n",
       "      <td>0.0</td>\n",
       "      <td>0</td>\n",
       "    </tr>\n",
       "    <tr>\n",
       "      <th>283949</th>\n",
       "      <td>172027.0</td>\n",
       "      <td>2.132569</td>\n",
       "      <td>-0.057836</td>\n",
       "      <td>-1.724522</td>\n",
       "      <td>-0.030326</td>\n",
       "      <td>0.412146</td>\n",
       "      <td>-0.903088</td>\n",
       "      <td>0.345843</td>\n",
       "      <td>-0.348132</td>\n",
       "      <td>0.722638</td>\n",
       "      <td>...</td>\n",
       "      <td>-0.188739</td>\n",
       "      <td>-0.343876</td>\n",
       "      <td>0.105024</td>\n",
       "      <td>-0.763831</td>\n",
       "      <td>0.117381</td>\n",
       "      <td>-0.027682</td>\n",
       "      <td>-0.047514</td>\n",
       "      <td>-0.071700</td>\n",
       "      <td>0.0</td>\n",
       "      <td>0</td>\n",
       "    </tr>\n",
       "    <tr>\n",
       "      <th>284085</th>\n",
       "      <td>172140.0</td>\n",
       "      <td>-2.210521</td>\n",
       "      <td>-1.039425</td>\n",
       "      <td>0.189704</td>\n",
       "      <td>-1.291932</td>\n",
       "      <td>3.742120</td>\n",
       "      <td>-1.665061</td>\n",
       "      <td>3.120388</td>\n",
       "      <td>-2.324089</td>\n",
       "      <td>0.364926</td>\n",
       "      <td>...</td>\n",
       "      <td>-0.286359</td>\n",
       "      <td>1.326003</td>\n",
       "      <td>-0.361764</td>\n",
       "      <td>-0.268117</td>\n",
       "      <td>1.051309</td>\n",
       "      <td>0.334629</td>\n",
       "      <td>-1.930149</td>\n",
       "      <td>-0.899888</td>\n",
       "      <td>0.0</td>\n",
       "      <td>0</td>\n",
       "    </tr>\n",
       "    <tr>\n",
       "      <th>284770</th>\n",
       "      <td>172759.0</td>\n",
       "      <td>-0.822731</td>\n",
       "      <td>1.270140</td>\n",
       "      <td>-0.138566</td>\n",
       "      <td>0.479620</td>\n",
       "      <td>1.242101</td>\n",
       "      <td>0.795218</td>\n",
       "      <td>0.454284</td>\n",
       "      <td>0.556038</td>\n",
       "      <td>-1.550610</td>\n",
       "      <td>...</td>\n",
       "      <td>0.138766</td>\n",
       "      <td>0.450908</td>\n",
       "      <td>-0.192146</td>\n",
       "      <td>-0.196218</td>\n",
       "      <td>-0.261664</td>\n",
       "      <td>2.372675</td>\n",
       "      <td>-0.042743</td>\n",
       "      <td>0.109613</td>\n",
       "      <td>0.0</td>\n",
       "      <td>0</td>\n",
       "    </tr>\n",
       "  </tbody>\n",
       "</table>\n",
       "<p>1825 rows × 31 columns</p>\n",
       "</div>"
      ],
      "text/plain": [
       "            Time        V1        V2        V3        V4        V5        V6  \\\n",
       "383        282.0 -0.356466  0.725418  1.971749  0.831343  0.369681 -0.107776   \n",
       "514        380.0 -1.299837  0.881817  1.452842 -1.293698 -0.025105 -1.170103   \n",
       "534        403.0  1.237413  0.512365  0.687746  1.693872 -0.236323 -0.650232   \n",
       "541        406.0 -2.312227  1.951992 -1.609851  3.997906 -0.522188 -1.426545   \n",
       "575        430.0 -1.860258 -0.629859  0.966570  0.844632  0.759983 -1.481173   \n",
       "...          ...       ...       ...       ...       ...       ...       ...   \n",
       "283719  171817.0 -0.750414  0.904175  0.996461  0.427284  1.720336  0.929256   \n",
       "283782  171870.0  2.083677 -0.065811 -1.442870  0.135416  0.043035 -1.306975   \n",
       "283949  172027.0  2.132569 -0.057836 -1.724522 -0.030326  0.412146 -0.903088   \n",
       "284085  172140.0 -2.210521 -1.039425  0.189704 -1.291932  3.742120 -1.665061   \n",
       "284770  172759.0 -0.822731  1.270140 -0.138566  0.479620  1.242101  0.795218   \n",
       "\n",
       "              V7        V8        V9  ...       V21       V22       V23  \\\n",
       "383     0.751610 -0.120166 -0.420675  ...  0.020804  0.424312 -0.015989   \n",
       "514     0.861610 -0.193934  0.592001  ... -0.272563 -0.360853  0.223911   \n",
       "534     0.118066 -0.230545 -0.808523  ... -0.077543 -0.178220  0.038722   \n",
       "541    -2.537387  1.391657 -2.770089  ...  0.517232 -0.035049 -0.465211   \n",
       "575    -0.509681  0.540722 -0.733623  ...  0.268028  0.125515 -0.225029   \n",
       "...          ...       ...       ...  ...       ...       ...       ...   \n",
       "283719  0.794272  0.176719 -1.836261  ...  0.050750  0.115532 -0.623995   \n",
       "283782  0.335835 -0.371635  0.730560  ... -0.147536 -0.246599  0.194758   \n",
       "283949  0.345843 -0.348132  0.722638  ... -0.188739 -0.343876  0.105024   \n",
       "284085  3.120388 -2.324089  0.364926  ... -0.286359  1.326003 -0.361764   \n",
       "284770  0.454284  0.556038 -1.550610  ...  0.138766  0.450908 -0.192146   \n",
       "\n",
       "             V24       V25       V26       V27       V28  Amount  Class  \n",
       "383     0.466754 -0.809962  0.657334 -0.043150 -0.046401     0.0      0  \n",
       "514     0.598930 -0.397705  0.637141  0.234872  0.021379     0.0      0  \n",
       "534     0.471218  0.289249  0.871803 -0.066884  0.012986     0.0      0  \n",
       "541     0.320198  0.044519  0.177840  0.261145 -0.143276     0.0      1  \n",
       "575     0.586664 -0.031598  0.570168 -0.043007 -0.223739     0.0      0  \n",
       "...          ...       ...       ...       ...       ...     ...    ...  \n",
       "283719 -0.186896  0.733759  2.558151 -0.188835  0.001654     0.0      0  \n",
       "283782 -0.082277  0.012887 -0.069278 -0.048995 -0.065482     0.0      0  \n",
       "283949 -0.763831  0.117381 -0.027682 -0.047514 -0.071700     0.0      0  \n",
       "284085 -0.268117  1.051309  0.334629 -1.930149 -0.899888     0.0      0  \n",
       "284770 -0.196218 -0.261664  2.372675 -0.042743  0.109613     0.0      0  \n",
       "\n",
       "[1825 rows x 31 columns]"
      ]
     },
     "execution_count": 6,
     "metadata": {},
     "output_type": "execute_result"
    }
   ],
   "source": [
    "base.loc[base.Amount == 0]"
   ]
  },
  {
   "cell_type": "markdown",
   "metadata": {},
   "source": [
    "#### Verificação de Entradas Duplicadas"
   ]
  },
  {
   "cell_type": "code",
   "execution_count": 7,
   "metadata": {},
   "outputs": [
    {
     "data": {
      "text/plain": [
       "0         False\n",
       "1         False\n",
       "2         False\n",
       "3         False\n",
       "4         False\n",
       "          ...  \n",
       "284802    False\n",
       "284803    False\n",
       "284804    False\n",
       "284805    False\n",
       "284806    False\n",
       "Length: 284807, dtype: bool"
      ]
     },
     "metadata": {},
     "output_type": "display_data"
    }
   ],
   "source": [
    "display(base.duplicated())"
   ]
  },
  {
   "cell_type": "markdown",
   "metadata": {},
   "source": [
    "#### Verificação de Valores Nulos\n"
   ]
  },
  {
   "cell_type": "code",
   "execution_count": 8,
   "metadata": {},
   "outputs": [
    {
     "data": {
      "text/plain": [
       "Time      0\n",
       "V1        0\n",
       "V2        0\n",
       "V3        0\n",
       "V4        0\n",
       "V5        0\n",
       "V6        0\n",
       "V7        0\n",
       "V8        0\n",
       "V9        0\n",
       "V10       0\n",
       "V11       0\n",
       "V12       0\n",
       "V13       0\n",
       "V14       0\n",
       "V15       0\n",
       "V16       0\n",
       "V17       0\n",
       "V18       0\n",
       "V19       0\n",
       "V20       0\n",
       "V21       0\n",
       "V22       0\n",
       "V23       0\n",
       "V24       0\n",
       "V25       0\n",
       "V26       0\n",
       "V27       0\n",
       "V28       0\n",
       "Amount    0\n",
       "Class     0\n",
       "dtype: int64"
      ]
     },
     "execution_count": 8,
     "metadata": {},
     "output_type": "execute_result"
    }
   ],
   "source": [
    "base.isnull().sum()"
   ]
  },
  {
   "cell_type": "markdown",
   "metadata": {},
   "source": [
    "#### Percentual de Fraudes na base de dados"
   ]
  },
  {
   "cell_type": "code",
   "execution_count": 9,
   "metadata": {},
   "outputs": [
    {
     "data": {
      "image/png": "[encoded data removed]",
      "text/plain": [
       "<Figure size 1200x500 with 1 Axes>"
      ]
     },
     "metadata": {},
     "output_type": "display_data"
    }
   ],
   "source": [
    "total_fraudes = base.Class.value_counts()\n",
    "sns.set(style=\"whitegrid\")\n",
    "palette = sns.color_palette('viridis')\n",
    "\n",
    "fig, ax = plt.subplots(figsize=(12, 5))\n",
    "sns.barplot(x=total_fraudes.index.astype(str), y=total_fraudes.values, palette=palette, ax=ax)\n",
    "ax.set_xlabel('Classe', fontsize=14)\n",
    "ax.set_ylabel('Número de Transações', fontsize=14)\n",
    "ax.set_title('Distribuição de Transações por Classe', fontsize=16, pad=50)\n",
    "\n",
    "for p in ax.patches:\n",
    "    ax.annotate(format(p.get_height(), '.0f'), \n",
    "                (p.get_x() + p.get_width() / 2., p.get_height()), \n",
    "                ha='center', va='center',\n",
    "                xytext=(0, 9), \n",
    "                textcoords='offset points', \n",
    "                fontsize=12, color='black')\n",
    "\n",
    "handles = [plt.Line2D([0], [0], color=palette[i], lw=4) for i in range(len(total_fraudes))]\n",
    "labels = ['Não Fraude (0)', 'Fraude (1)']\n",
    "fig.legend(handles=handles, labels=labels, loc='upper center', bbox_to_anchor=(0.5, 0.90), ncol=2)\n",
    "\n",
    "plt.tight_layout()\n",
    "plt.show()"
   ]
  },
  {
   "cell_type": "markdown",
   "metadata": {},
   "source": [
    "### Criação do Modelo de Identificação de Fraudes\n",
    "\n",
    "Agora construiremos um modelo de detecção de fraudes utilizando a base de dados conforme ela é, sem aplicar nenhum tratamento prévio. Este processo nos permitirá avaliar o desempenho do modelo em seu estado bruto e compreender o impacto da ausência de pré-processamento na sua eficácia.\n"
   ]
  },
  {
   "cell_type": "markdown",
   "metadata": {},
   "source": [
    "#### Separação das variáveis Independentes e Dependentes"
   ]
  },
  {
   "cell_type": "code",
   "execution_count": 10,
   "metadata": {},
   "outputs": [],
   "source": [
    "x = base.drop('Class', axis=1)\n",
    "y = base.Class"
   ]
  },
  {
   "cell_type": "markdown",
   "metadata": {},
   "source": [
    "#### Separação dos dados em conjuntos de Treino e Teste\n"
   ]
  },
  {
   "cell_type": "code",
   "execution_count": 11,
   "metadata": {},
   "outputs": [],
   "source": [
    "from sklearn.model_selection import train_test_split\n",
    "x_train, x_test, y_train, y_test = train_test_split(x,y, test_size=0.33, random_state=42, stratify=y)"
   ]
  },
  {
   "cell_type": "markdown",
   "metadata": {},
   "source": [
    "#### Importando a Árvore de Decisão"
   ]
  },
  {
   "cell_type": "code",
   "execution_count": 12,
   "metadata": {},
   "outputs": [],
   "source": [
    "#Importando a árvore de decisão\n",
    "from sklearn import tree"
   ]
  },
  {
   "cell_type": "markdown",
   "metadata": {},
   "source": [
    "#### Definição e treinamento do classificador de Árvore de Decisão"
   ]
  },
  {
   "cell_type": "code",
   "execution_count": 13,
   "metadata": {},
   "outputs": [],
   "source": [
    "clf = tree.DecisionTreeClassifier(random_state=42).fit(x_train,y_train)"
   ]
  },
  {
   "cell_type": "markdown",
   "metadata": {},
   "source": [
    "#### Realização de previsões com o classificador de Árvore de Decisão\n"
   ]
  },
  {
   "cell_type": "code",
   "execution_count": 14,
   "metadata": {},
   "outputs": [],
   "source": [
    "#Fazendo a previsão:\n",
    "y_pred_arv = clf.predict(x_test)"
   ]
  },
  {
   "cell_type": "markdown",
   "metadata": {},
   "source": [
    "#### Métricas de avaliação do modelo\n",
    "\n",
    "- **Acurácia**: Proporção de previsões corretas em relação ao total de previsões.\n",
    "- **Matriz de Confusão**: Tabela que mostra o número de verdadeiros positivos, falsos positivos, verdadeiros negativos e falsos negativos.\n",
    "- **Precisão**: Proporção de previsões positivas corretas em relação ao total de previsões positivas feitas.\n",
    "- **Recall**: Proporção de verdadeiros positivos identificados corretamente em relação ao total de positivos reais.\n"
   ]
  },
  {
   "cell_type": "code",
   "execution_count": 15,
   "metadata": {},
   "outputs": [],
   "source": [
    "from sklearn import metrics"
   ]
  },
  {
   "cell_type": "code",
   "execution_count": 16,
   "metadata": {},
   "outputs": [
    {
     "name": "stdout",
     "output_type": "stream",
     "text": [
      "Acurácia:\n",
      "0.9991594582229457\n",
      "\n",
      "Matriz de confusão:\n",
      "[[93786    39]\n",
      " [   40   122]]\n",
      "\n",
      "Precisão:\n",
      "0.7577639751552795\n",
      "\n",
      "Recall:\n",
      "0.7530864197530864\n"
     ]
    }
   ],
   "source": [
    "print('Acurácia:')\n",
    "print(metrics.accuracy_score(y_test, y_pred_arv))\n",
    "print('')\n",
    "print('Matriz de confusão:')\n",
    "print(metrics.confusion_matrix(y_test,y_pred_arv))\n",
    "print('')\n",
    "print('Precisão:')\n",
    "print(metrics.precision_score(y_test,y_pred_arv))\n",
    "print('')\n",
    "print('Recall:')\n",
    "print(metrics.recall_score(y_test,y_pred_arv))"
   ]
  },
  {
   "cell_type": "markdown",
   "metadata": {},
   "source": [
    "#### Desbalanceamento da base de dados\n",
    "\n",
    "- Observamos que a base de dados está significativamente desbalanceada, com uma quantidade muito maior de transações não fraudulentas (classe 0) em comparação com transações fraudulentas (classe 1). Esse desbalanceamento pode levar a um modelo que simplesmente prevê a classe majoritária (0) na maioria das vezes, resultando em um desempenho insatisfatório na detecção de fraudes."
   ]
  },
  {
   "cell_type": "markdown",
   "metadata": {},
   "source": [
    "#### Abordagem para lidar com o desbalanceamento\n",
    "\n",
    "Para enfrentar o problema do desbalanceamento de classes na base de dados, temos duas principais opções:\n",
    "\n",
    "- **Reduzir a Classe Majoritária**: Diminui o número de amostras da classe não fraudulenta (classe 0) para equilibrar o conjunto de dados.\n",
    "- **Aumentar a Classe Minoritária**: Aumenta o número de amostras da classe fraudulenta (classe 1) para equilibrar o conjunto de dados.\n",
    "\n",
    "Optamos por **reduzir a classe majoritária**. Essa abordagem ajudará a criar um conjunto de dados mais balanceado e permitirá que o modelo se concentre melhor na identificação de transações fraudulentas.\n"
   ]
  },
  {
   "cell_type": "code",
   "execution_count": 17,
   "metadata": {},
   "outputs": [],
   "source": [
    "from imblearn.under_sampling import RandomUnderSampler"
   ]
  },
  {
   "cell_type": "markdown",
   "metadata": {},
   "source": [
    "#### Implementação do RandomUnderSampler"
   ]
  },
  {
   "cell_type": "code",
   "execution_count": 18,
   "metadata": {},
   "outputs": [],
   "source": [
    "rus = RandomUnderSampler(random_state=42)"
   ]
  },
  {
   "cell_type": "markdown",
   "metadata": {},
   "source": [
    "#### Aplicação da Subamostragem"
   ]
  },
  {
   "cell_type": "code",
   "execution_count": 19,
   "metadata": {},
   "outputs": [],
   "source": [
    "x_resRU, y_resRU = rus.fit_resample(x_train,y_train)"
   ]
  },
  {
   "cell_type": "markdown",
   "metadata": {},
   "source": [
    "#### Visualização da isdtribuição das classes após o UnderSampler"
   ]
  },
  {
   "cell_type": "code",
   "execution_count": 20,
   "metadata": {},
   "outputs": [
    {
     "data": {
      "image/png": "[encoded data removed]",
      "text/plain": [
       "<Figure size 1200x500 with 1 Axes>"
      ]
     },
     "metadata": {},
     "output_type": "display_data"
    }
   ],
   "source": [
    "total_fraudes = y_resRU.value_counts()\n",
    "sns.set(style=\"whitegrid\")\n",
    "palette = sns.color_palette('viridis')\n",
    "\n",
    "fig, ax = plt.subplots(figsize=(12, 5))\n",
    "sns.barplot(x=total_fraudes.index.astype(str), y=total_fraudes.values, palette=palette, ax=ax)\n",
    "ax.set_xlabel('Classe', fontsize=14)\n",
    "ax.set_ylabel('Número de Transações', fontsize=14)\n",
    "ax.set_title('Distribuição de Transações por Classe após Balanceamento', fontsize=16, pad=50)\n",
    "\n",
    "for p in ax.patches:\n",
    "    ax.annotate(format(p.get_height(), '.0f'), \n",
    "                (p.get_x() + p.get_width() / 2., p.get_height()), \n",
    "                ha='center', va='center',\n",
    "                xytext=(0, 9), \n",
    "                textcoords='offset points', \n",
    "                fontsize=12, color='black')\n",
    "\n",
    "handles = [plt.Line2D([0], [0], color=palette[i], lw=4) for i in range(len(total_fraudes))]\n",
    "labels = ['Não Fraude (0)', 'Fraude (1)']\n",
    "fig.legend(handles=handles, labels=labels, loc='upper center', bbox_to_anchor=(0.5, 0.90), ncol=2)\n",
    "\n",
    "plt.tight_layout()\n",
    "plt.show()"
   ]
  },
  {
   "cell_type": "code",
   "execution_count": 21,
   "metadata": {},
   "outputs": [
    {
     "data": {
      "text/plain": [
       "Class\n",
       "0    330\n",
       "1    330\n",
       "Name: count, dtype: int64"
      ]
     },
     "execution_count": 21,
     "metadata": {},
     "output_type": "execute_result"
    }
   ],
   "source": [
    "y_resRU.value_counts()"
   ]
  },
  {
   "cell_type": "markdown",
   "metadata": {},
   "source": [
    "#### Base de dados Balanceada.\n",
    "\n",
    "- Após a aplicação da técnica de subamostragem, a base de dados agora está totalmente balanceada. Isso significa que o número de amostras de cada classe (fraudulentas e não fraudulentas) é igual, o que facilita um treinamento mais eficaz do modelo de detecção de fraudes."
   ]
  },
  {
   "cell_type": "markdown",
   "metadata": {},
   "source": [
    "#### Utilizando novamente a Árvore de Decisão:"
   ]
  },
  {
   "cell_type": "code",
   "execution_count": 22,
   "metadata": {},
   "outputs": [],
   "source": [
    "clfAR = tree.DecisionTreeClassifier(random_state=42).fit(x_resRU, y_resRU)"
   ]
  },
  {
   "cell_type": "code",
   "execution_count": 23,
   "metadata": {},
   "outputs": [],
   "source": [
    "y_predAR = clfAR.predict(x_test)\n",
    "y_predAR_proba = clfAR.predict_proba(x_test)[:,1]"
   ]
  },
  {
   "cell_type": "code",
   "execution_count": 24,
   "metadata": {},
   "outputs": [
    {
     "name": "stdout",
     "output_type": "stream",
     "text": [
      "Acurácia:\n",
      "0.9004543181503825\n",
      "\n",
      "Matriz de confusão:\n",
      "[[84484  9341]\n",
      " [   15   147]]\n",
      "\n",
      "Precisão:\n",
      "0.015493254637436763\n",
      "\n",
      "Recall:\n",
      "0.9074074074074074\n"
     ]
    }
   ],
   "source": [
    "print('Acurácia:')\n",
    "print(metrics.accuracy_score(y_test, y_predAR))\n",
    "print('')\n",
    "print('Matriz de confusão:')\n",
    "print(metrics.confusion_matrix(y_test, y_predAR))\n",
    "print('')\n",
    "print('Precisão:')\n",
    "print(metrics.precision_score(y_test, y_predAR))\n",
    "print('')\n",
    "print('Recall:')\n",
    "print(metrics.recall_score(y_test, y_predAR))"
   ]
  },
  {
   "cell_type": "markdown",
   "metadata": {},
   "source": [
    "#### Melhorias Após o Balanceamento\n",
    "\n",
    "- Com a base de dados agora balanceada, o modelo tem demonstrado uma capacidade significativamente melhor de identificar fraudes."
   ]
  },
  {
   "cell_type": "markdown",
   "metadata": {},
   "source": [
    "### Utilizando a Regressão Logística\n",
    "\n",
    "- A **Regressão Logística** é um modelo de classificação binária que prevê a probabilidade de uma amostra pertencer a uma classe específica. Utiliza a função sigmoide para converter uma combinação linear das características em uma probabilidade entre 0 e 1. Com base nessa probabilidade, decide a classe da amostra. É amplamente usada para problemas como a detecção de fraudes e tem a vantagem de fornecer uma interpretação clara das previsões probabilísticas."
   ]
  },
  {
   "cell_type": "code",
   "execution_count": 25,
   "metadata": {},
   "outputs": [],
   "source": [
    "from sklearn.linear_model import LogisticRegression"
   ]
  },
  {
   "cell_type": "code",
   "execution_count": 26,
   "metadata": {},
   "outputs": [],
   "source": [
    "clfRL = LogisticRegression(random_state= 0).fit(x_resRU, y_resRU)"
   ]
  },
  {
   "cell_type": "code",
   "execution_count": 27,
   "metadata": {},
   "outputs": [],
   "source": [
    "y_predRL = clfRL.predict(x_test)\n",
    "y_predRL_proba = clfRL.predict_proba(x_test)[:,1]"
   ]
  },
  {
   "cell_type": "code",
   "execution_count": 28,
   "metadata": {},
   "outputs": [
    {
     "name": "stdout",
     "output_type": "stream",
     "text": [
      "Acurácia:\n",
      "0.9513975337014694\n",
      "\n",
      "Matriz de confusão:\n",
      "[[89276  4549]\n",
      " [   19   143]]\n",
      "\n",
      "Precisão:\n",
      "0.030477408354646206\n",
      "\n",
      "Recall:\n",
      "0.8827160493827161\n"
     ]
    }
   ],
   "source": [
    "print('Acurácia:')\n",
    "print(metrics.accuracy_score(y_test, y_predRL))\n",
    "print('')\n",
    "print('Matriz de confusão:')\n",
    "print(metrics.confusion_matrix(y_test, y_predRL))\n",
    "print('')\n",
    "print('Precisão:')\n",
    "print(metrics.precision_score(y_test, y_predRL))\n",
    "print('')\n",
    "print('Recall:')\n",
    "print(metrics.recall_score(y_test, y_predRL))"
   ]
  },
  {
   "cell_type": "markdown",
   "metadata": {},
   "source": [
    "#### Utilizando o Suport Vector Machine\n",
    "\n",
    "- **Support Vector Machine (SVM)** é um modelo de classificação que encontra o melhor hiperplano para separar diferentes classes com a maior margem possível. Usa vetores de suporte para definir essa margem."
   ]
  },
  {
   "cell_type": "code",
   "execution_count": 29,
   "metadata": {},
   "outputs": [],
   "source": [
    "from sklearn.svm import SVC"
   ]
  },
  {
   "cell_type": "code",
   "execution_count": 30,
   "metadata": {},
   "outputs": [],
   "source": [
    "clfSVC = SVC(probability=True, random_state=0).fit(x_resRU, y_resRU)"
   ]
  },
  {
   "cell_type": "code",
   "execution_count": 31,
   "metadata": {},
   "outputs": [],
   "source": [
    "y_predSVC = clfSVC.predict(x_test)\n",
    "y_predSVC_proba = clfSVC.predict_proba(x_test)[:,1]"
   ]
  },
  {
   "cell_type": "markdown",
   "metadata": {},
   "source": [
    "#### Utilizando o KNN\n",
    "\n",
    "- **K-Nearest Neighbors (KNN)** é um algoritmo de classificação que atribui a classe de uma amostra com base nas classes dos seus *k* vizinhos mais próximos no espaço de características. A classe mais frequente entre esses vizinhos é usada para classificar a amostra."
   ]
  },
  {
   "cell_type": "code",
   "execution_count": 32,
   "metadata": {},
   "outputs": [],
   "source": [
    "from sklearn.neighbors import KNeighborsClassifier"
   ]
  },
  {
   "cell_type": "code",
   "execution_count": 33,
   "metadata": {},
   "outputs": [],
   "source": [
    "clfKNN = KNeighborsClassifier(n_neighbors=3).fit(x_resRU, y_resRU)"
   ]
  },
  {
   "cell_type": "code",
   "execution_count": 34,
   "metadata": {},
   "outputs": [],
   "source": [
    "y_predKNN = clfKNN.predict(x_test)\n",
    "y_predKNN_proba = clfKNN.predict_proba(x_test)[:,1]"
   ]
  },
  {
   "cell_type": "code",
   "execution_count": 35,
   "metadata": {},
   "outputs": [
    {
     "name": "stdout",
     "output_type": "stream",
     "text": [
      "Acurácia:\n",
      "0.6430676582931683\n",
      "\n",
      "Matriz de confusão:\n",
      "[[60332 33493]\n",
      " [   54   108]]\n",
      "\n",
      "Precisão:\n",
      "0.0032141900538674444\n",
      "\n",
      "Recall:\n",
      "0.6666666666666666\n"
     ]
    }
   ],
   "source": [
    "print('Acurácia:')\n",
    "print(metrics.accuracy_score(y_test, y_predKNN))\n",
    "print('')\n",
    "print('Matriz de confusão:')\n",
    "print(metrics.confusion_matrix(y_test, y_predKNN))\n",
    "print('')\n",
    "print('Precisão:')\n",
    "print(metrics.precision_score(y_test, y_predKNN))\n",
    "print('')\n",
    "print('Recall:')\n",
    "print(metrics.recall_score(y_test, y_predKNN))"
   ]
  },
  {
   "cell_type": "markdown",
   "metadata": {},
   "source": [
    "#### Utilizando a  Random Forest\n",
    "\n",
    "- **Random Forest** é um modelo que combina múltiplas árvores de decisão para melhorar a precisão da classificação. Cada árvore é treinada com uma amostra aleatória dos dados e um subconjunto aleatório das características. A previsão final é obtida por votação majoritária das árvores ou pela média das previsões."
   ]
  },
  {
   "cell_type": "code",
   "execution_count": 36,
   "metadata": {},
   "outputs": [],
   "source": [
    "from sklearn.ensemble import RandomForestClassifier"
   ]
  },
  {
   "cell_type": "code",
   "execution_count": 37,
   "metadata": {},
   "outputs": [],
   "source": [
    "clfRF = RandomForestClassifier(max_depth=2, random_state=0).fit(x_resRU, y_resRU)"
   ]
  },
  {
   "cell_type": "code",
   "execution_count": 38,
   "metadata": {},
   "outputs": [],
   "source": [
    "y_predRF = clfRF.predict(x_test)\n",
    "y_predRF_proba = clfRF.predict_proba(x_test)[:,1]"
   ]
  },
  {
   "cell_type": "code",
   "execution_count": 39,
   "metadata": {},
   "outputs": [
    {
     "name": "stdout",
     "output_type": "stream",
     "text": [
      "Acurácia:\n",
      "0.9927436773170758\n",
      "\n",
      "Matriz de confusão:\n",
      "[[93168   657]\n",
      " [   25   137]]\n",
      "\n",
      "Precisão:\n",
      "0.172544080604534\n",
      "\n",
      "Recall:\n",
      "0.845679012345679\n"
     ]
    }
   ],
   "source": [
    "print('Acurácia:')\n",
    "print(metrics.accuracy_score(y_test, y_predRF))\n",
    "print('')\n",
    "print('Matriz de confusão:')\n",
    "print(metrics.confusion_matrix(y_test, y_predRF))\n",
    "print('')\n",
    "print('Precisão:')\n",
    "print(metrics.precision_score(y_test, y_predRF))\n",
    "print('')\n",
    "print('Recall:')\n",
    "print(metrics.recall_score(y_test, y_predRF))"
   ]
  },
  {
   "cell_type": "markdown",
   "metadata": {},
   "source": [
    "### Comparando os modelos"
   ]
  },
  {
   "cell_type": "code",
   "execution_count": 40,
   "metadata": {},
   "outputs": [
    {
     "name": "stdout",
     "output_type": "stream",
     "text": [
      "Árvore de decisão\n",
      "Precisão: 0.015493254637436763\n",
      "Recall: 0.9074074074074074\n",
      "\n",
      "Regressão Logística\n",
      "Precisão: 0.030477408354646206\n",
      "Recall: 0.8827160493827161\n",
      "\n",
      "SVC\n",
      "Precisão: 0.002222860975376066\n",
      "Recall: 0.7160493827160493\n",
      "\n",
      "KNN\n",
      "Precisão: 0.0032141900538674444\n",
      "Recall: 0.6666666666666666\n",
      "\n",
      "Random Forest\n",
      "Precisão: 0.172544080604534\n",
      "Recall: 0.845679012345679\n"
     ]
    }
   ],
   "source": [
    "print('Árvore de decisão')\n",
    "print('Precisão:', metrics.precision_score(y_test, y_predAR))\n",
    "print('Recall:',metrics.recall_score(y_test, y_predAR))\n",
    "print('')\n",
    "\n",
    "print('Regressão Logística')\n",
    "print('Precisão:',metrics.precision_score(y_test, y_predRL))\n",
    "print('Recall:',metrics.recall_score(y_test, y_predRL))\n",
    "print('')\n",
    "\n",
    "print('SVC')\n",
    "print('Precisão:',metrics.precision_score(y_test, y_predSVC))\n",
    "print('Recall:',metrics.recall_score(y_test, y_predSVC))\n",
    "print('')\n",
    "\n",
    "print('KNN')\n",
    "print('Precisão:',metrics.precision_score(y_test, y_predKNN))\n",
    "print('Recall:',metrics.recall_score(y_test, y_predKNN))\n",
    "print('')\n",
    "\n",
    "print('Random Forest')\n",
    "print('Precisão:',metrics.precision_score(y_test, y_predRF))\n",
    "print('Recall:',metrics.recall_score(y_test, y_predRF))"
   ]
  },
  {
   "cell_type": "code",
   "execution_count": 41,
   "metadata": {},
   "outputs": [],
   "source": [
    "precision_AR, recall_AR, thresolds_AR = metrics.precision_recall_curve(y_test, y_predAR_proba)\n",
    "precision_RL, recall_RL, thresolds_RL = metrics.precision_recall_curve(y_test, y_predRL_proba)\n",
    "precision_SVC, recall_SVC, thresolds_SVC = metrics.precision_recall_curve(y_test, y_predSVC_proba)\n",
    "precision_KNN, recall_KNN, thresolds_KNN = metrics.precision_recall_curve(y_test, y_predKNN_proba)\n",
    "precision_RF, recall_RF, thresolds_RF = metrics.precision_recall_curve(y_test, y_predRF_proba)"
   ]
  },
  {
   "cell_type": "code",
   "execution_count": 42,
   "metadata": {},
   "outputs": [
    {
     "data": {
      "image/png": "[encoded data removed]",
      "text/plain": [
       "<Figure size 1200x600 with 1 Axes>"
      ]
     },
     "metadata": {},
     "output_type": "display_data"
    }
   ],
   "source": [
    "palette = sns.color_palette(\"deep\")\n",
    "\n",
    "fig, ax = plt.subplots(figsize=(12, 6))\n",
    "\n",
    "ax.plot(recall_AR, precision_AR, linewidth=2.0, linestyle='-', marker='o', color=palette[0], label='Árvore de Decisão (AD)')\n",
    "ax.plot(recall_RL, precision_RL, linewidth=2.0, linestyle='-', marker='s', color=palette[1], label='Regressão Logística (RL)')\n",
    "ax.plot(recall_SVC, precision_SVC, linewidth=2.0, linestyle='-', marker='^', color=palette[2], label='SVC')\n",
    "ax.plot(recall_KNN, precision_KNN, linewidth=2.0, linestyle='-', marker='x', color=palette[3], label='KNN')\n",
    "ax.plot(recall_RF, precision_RF, linewidth=2.0, linestyle='-', marker='d', color=palette[4], label='Random Forest (RF)')\n",
    "\n",
    "ax.set_title('Curva de Precisão vs. Recall para Diferentes Modelos', fontsize=16)\n",
    "ax.set_xlabel('Recall', fontsize=14)\n",
    "ax.set_ylabel('Precisão', fontsize=14)\n",
    "ax.grid(True, linestyle='--', alpha=0.7)\n",
    "\n",
    "handles = [plt.Line2D([0], [0], color=palette[i], lw=4) for i in range(5)]\n",
    "labels = ['Árvore de Decisão (AD)', 'Regressão Logística (RL)', 'SVC', 'KNN', 'Random Forest (RF)']\n",
    "fig.legend(handles=handles, labels=labels, loc='upper center', bbox_to_anchor=(0.5, 0.95), ncol=3, fontsize='10')\n",
    "\n",
    "plt.tight_layout()\n",
    "plt.show()"
   ]
  },
  {
   "cell_type": "code",
   "execution_count": 43,
   "metadata": {},
   "outputs": [
    {
     "name": "stdout",
     "output_type": "stream",
     "text": [
      "Árvore de Decisão:\n",
      "0.46153012929239556\n",
      "\n",
      "Regressão Logística:\n",
      "0.6764514752589492\n",
      "\n",
      "SVC\n",
      "0.0022305388405119003\n",
      "\n",
      "KNN\n",
      "0.17950296059526705\n",
      "\n",
      "Random Forest\n",
      "0.6504912358563952\n"
     ]
    }
   ],
   "source": [
    "print('Árvore de Decisão:')\n",
    "print(metrics.auc(recall_AR, precision_AR))\n",
    "print('')\n",
    "print('Regressão Logística:')\n",
    "print(metrics.auc(recall_RL, precision_RL))\n",
    "print('')\n",
    "print('SVC')\n",
    "print(metrics.auc(recall_SVC, precision_SVC))\n",
    "print('')\n",
    "print('KNN')\n",
    "print(metrics.auc(recall_KNN, precision_KNN))\n",
    "print('')\n",
    "print('Random Forest')\n",
    "print(metrics.auc(recall_RF, precision_RF))"
   ]
  },
  {
   "cell_type": "markdown",
   "metadata": {},
   "source": [
    "### Escolha do Modelo: Regressão Logística\n",
    "\n",
    "**Regressão Logística** foi selecionada para a detecção de fraudes no cartão de crédito devido aos seguintes fatores:\n",
    "\n",
    "1. **Bom Equilíbrio entre Precisão e Recall**: A Regressão Logística apresentou um bom equilíbrio entre precisão e recall, o que é crucial para identificar fraudes com um número aceitável de falsos positivos e falsos negativos.\n",
    "\n",
    "2. **Alta AUC na Curva de Precisão x Recall**: Com uma AUC de 0.6765, a Regressão Logística demonstrou uma capacidade significativa de equilibrar precisão e recall, melhorando a identificação das fraudes.\n",
    "\n",
    "3. **Interpretação e Simplicidade**: A Regressão Logística é fácil de interpretar e entender, o que permite uma análise clara das probabilidades associadas a cada transação e a decisão final sobre a classificação de fraude."
   ]
  },
  {
   "cell_type": "markdown",
   "metadata": {},
   "source": [
    "### Ajustando os hiperparâmetros do modelo escolhido.\n",
    "- É importante destacar que vamos priorizar a métrica de **Recall**. O recall é particularmente importante em problemas de detecção de fraudes, pois queremos identificar o maior número possível de fraudes, mesmo que isso signifique perda em termos de precisão."
   ]
  },
  {
   "cell_type": "code",
   "execution_count": 44,
   "metadata": {},
   "outputs": [],
   "source": [
    "from sklearn.model_selection import GridSearchCV"
   ]
  },
  {
   "cell_type": "code",
   "execution_count": 45,
   "metadata": {},
   "outputs": [],
   "source": [
    "regLog = LogisticRegression(random_state=42)"
   ]
  },
  {
   "cell_type": "markdown",
   "metadata": {},
   "source": [
    "#### Definindo os parametros a serem testados:"
   ]
  },
  {
   "cell_type": "code",
   "execution_count": 46,
   "metadata": {},
   "outputs": [],
   "source": [
    "parametros = {\n",
    "    'C' : [0.001, 0.01, 0.1, 1, 10, 100],\n",
    "    'solver' : ['newton-cg','lbfgs','liblinear','sag','saga'],\n",
    "}"
   ]
  },
  {
   "cell_type": "markdown",
   "metadata": {},
   "source": [
    "#### Criando um novo classificador com Regressão Logística"
   ]
  },
  {
   "cell_type": "code",
   "execution_count": 47,
   "metadata": {},
   "outputs": [],
   "source": [
    "clf_GS = GridSearchCV(regLog, parametros, scoring='recall').fit(x_resRU, y_resRU)"
   ]
  },
  {
   "cell_type": "markdown",
   "metadata": {},
   "source": [
    "#### Visualizando os melhores parametros:"
   ]
  },
  {
   "cell_type": "code",
   "execution_count": 48,
   "metadata": {},
   "outputs": [
    {
     "data": {
      "text/plain": [
       "{'C': 1, 'solver': 'newton-cg'}"
      ]
     },
     "execution_count": 48,
     "metadata": {},
     "output_type": "execute_result"
    }
   ],
   "source": [
    "clf_GS.best_params_"
   ]
  },
  {
   "cell_type": "markdown",
   "metadata": {},
   "source": [
    "#### Fazendo a previsão:"
   ]
  },
  {
   "cell_type": "code",
   "execution_count": 49,
   "metadata": {},
   "outputs": [],
   "source": [
    "y_pred_GS = clf_GS.predict(x_test)"
   ]
  },
  {
   "cell_type": "code",
   "execution_count": 50,
   "metadata": {},
   "outputs": [
    {
     "name": "stdout",
     "output_type": "stream",
     "text": [
      "Acurácia:\n",
      "0.9607286114037048\n",
      "\n",
      "Matriz de confusão:\n",
      "[[90150  3675]\n",
      " [   16   146]]\n",
      "\n",
      "Precisão:\n",
      "0.03820989269824653\n",
      "\n",
      "Recall:\n",
      "0.9012345679012346\n"
     ]
    }
   ],
   "source": [
    "print('Acurácia:')\n",
    "print(metrics.accuracy_score(y_test, y_pred_GS))\n",
    "print('')\n",
    "print('Matriz de confusão:')\n",
    "print(metrics.confusion_matrix(y_test, y_pred_GS))\n",
    "print('')\n",
    "print('Precisão:')\n",
    "print(metrics.precision_score(y_test, y_pred_GS))\n",
    "print('')\n",
    "print('Recall:')\n",
    "print(metrics.recall_score(y_test, y_pred_GS))"
   ]
  },
  {
   "cell_type": "markdown",
   "metadata": {},
   "source": [
    "#### Conclusão sobre o GridSearchCV\n",
    "\n",
    "- O GridSearchCV melhorou significativamente o recall, aumentando a capacidade do modelo de detectar fraudes. Apesar de a precisão ser baixa, o foco na detecção de fraudes foi priorizado. Em resumo, o GridSearchCV foi eficaz para ajustar o modelo e maximizar a detecção de fraudes, tornando-o uma ferramenta valiosa no processo de modelagem."
   ]
  },
  {
   "cell_type": "markdown",
   "metadata": {},
   "source": [
    "## Conclusão Final\n",
    "\n",
    "Este projeto de detecção de fraudes em cartões de crédito foi desenvolvido com o objetivo de identificar transações fraudulentas utilizando técnicas de aprendizado de máquina. A seguir, estão as principais conclusões e considerações finais:\n",
    "\n",
    "### 1. **Desempenho do Modelo**\n",
    "\n",
    "Após a aplicação de diversos modelos de aprendizado de máquina e a realização de ajustes de hiperparâmetros com GridSearchCV, a **Regressão Logística** foi escolhida como o modelo final. O desempenho deste modelo foi avaliado com base em métricas críticas para o problema de detecção de fraudes:\n",
    "\n",
    "- **Acurácia**: 96.07%\n",
    "- **Precisão**: 3.82%\n",
    "- **Recall**: 90.12%\n",
    "\n",
    "O modelo de Regressão Logística demonstrou um excelente desempenho em termos de recall, o que é fundamental para a identificação de fraudes.\n",
    "\n",
    "### 2. **Importância do Balanceamento de Dados**\n",
    "\n",
    "O balanceamento dos dados através do Random Under-Sampling foi crucial para melhorar o desempenho do modelo. Inicialmente, a base de dados era altamente desbalanceada, o que dificultava a detecção eficaz de fraudes. Após o balanceamento, o modelo foi capaz de identificar fraudes com maior eficácia.\n",
    "\n",
    "### 3. **Análise de Resultados**\n",
    "\n",
    "A análise dos resultados mostrou que o modelo ajustado com GridSearchCV proporcionou um bom equilíbrio entre recall e acurácia. A matriz de confusão revelou que o modelo conseguiu identificar a maioria das fraudes.\n",
    "\n",
    "### 4. **Considerações Finais**\n",
    "\n",
    "O projeto forneceu uma base sólida para a detecção de fraudes em cartões de crédito. \n"
   ]
  }
 ],
 "metadata": {
  "kernelspec": {
   "display_name": "Python 3",
   "language": "python",
   "name": "python3"
  },
  "language_info": {
   "codemirror_mode": {
    "name": "ipython",
    "version": 3
   },
   "file_extension": ".py",
   "mimetype": "text/x-python",
   "name": "python",
   "nbconvert_exporter": "python",
   "pygments_lexer": "ipython3",
   "version": "3.11.0"
  }
 },
 "nbformat": 4,
 "nbformat_minor": 2
}
